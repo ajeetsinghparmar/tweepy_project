{
 "cells": [
  {
   "cell_type": "code",
   "execution_count": 1,
   "metadata": {},
   "outputs": [],
   "source": [
    "import tweepy\n",
    "import json\n",
    "import pandas as pd\n",
    "import matplotlib.pyplot as plt"
   ]
  },
  {
   "cell_type": "code",
   "execution_count": 2,
   "metadata": {},
   "outputs": [],
   "source": [
    "with open('../twitter_config.json') as c:\n",
    "    params = json.load(c)\n",
    "    \n",
    "consumer_key = params[\"API_KEY\"]\n",
    "consumer_secret = params[\"APP_SECRET_KEY\"]\n",
    "access_token = params[\"ACCESS_TOKEN\"]\n",
    "access_token_secret = params[\"ACCESS_TOKEN_SECRET\"]"
   ]
  },
  {
   "cell_type": "code",
   "execution_count": 3,
   "metadata": {},
   "outputs": [],
   "source": [
    "class Authenticator():\n",
    "    def authenticate(self):\n",
    "        auth = tweepy.OAuthHandler(consumer_key, consumer_secret)\n",
    "        auth.set_access_token(access_token, access_token_secret)\n",
    "        return auth"
   ]
  },
  {
   "cell_type": "code",
   "execution_count": 4,
   "metadata": {},
   "outputs": [],
   "source": [
    "class Client():\n",
    "    def __init__(self, username):\n",
    "        self.auth = Authenticator().authenticate()\n",
    "        self.api = tweepy.API(self.auth, wait_on_rate_limit=True, wait_on_rate_limit_notify=True)\n",
    "        self.username = username\n",
    "    \n",
    "    def get_user_info(self):\n",
    "        user = self.api.get_user(self.username)\n",
    "        first_name, *_ = user.name.split(\" \")\n",
    "        info = {\n",
    "            'Name': user.name,\n",
    "            'Description': user.description,\n",
    "            'Created_at': user.created_at.strftime(\"%d %b, %Y, %H:%M:%S\"),\n",
    "            'Total Likes by '+first_name: user.favourites_count,\n",
    "            'Followers': user.followers_count,\n",
    "            'Friends': user.friends_count,\n",
    "            'Id': user.id,\n",
    "            'Id_str': user.id_str,\n",
    "            'Location': user.location,\n",
    "            'Total statuses': user.statuses_count\n",
    "        }\n",
    "        return info\n",
    "    def get_followers(self):\n",
    "        user = self.api.get_user(self.username)\n",
    "        first_name, *_ = user.name.split(\" \")\n",
    "        info = []\n",
    "\n",
    "        for follower in tweepy.Cursor(self.api.followers, screen_name = self.username).items(10):\n",
    "            username = follower.screen_name\n",
    "            name = follower.name\n",
    "            followers = follower.followers_count\n",
    "            friends = follower.friends_count\n",
    "            info.append([name, username, followers, friends])\n",
    "\n",
    "\n",
    "\n",
    "        info_df = pd.DataFrame(info, columns = ['name', 'username', 'followers', 'friends'])\n",
    "        return info_df\n",
    "\n",
    "    def get_friends(self):\n",
    "        user = self.api.get_user(self.username)\n",
    "        first_name, *_ = user.name.split(\" \")\n",
    "        info = []\n",
    "\n",
    "        for friend in tweepy.Cursor(self.api.friends, screen_name = self.username).items(10):\n",
    "            username = friend.screen_name\n",
    "            name = friend.name\n",
    "            followers = friend.followers_count\n",
    "            friends = friend.friends_count\n",
    "            info.append([name, username, followers, friends])\n",
    "\n",
    "\n",
    "\n",
    "        info_df = pd.DataFrame(info, columns = ['name', 'username', 'followers', 'friends'])\n",
    "        return info_df"
   ]
  },
  {
   "cell_type": "code",
   "execution_count": 11,
   "metadata": {},
   "outputs": [
    {
     "data": {
      "text/html": [
       "<div>\n",
       "<style scoped>\n",
       "    .dataframe tbody tr th:only-of-type {\n",
       "        vertical-align: middle;\n",
       "    }\n",
       "\n",
       "    .dataframe tbody tr th {\n",
       "        vertical-align: top;\n",
       "    }\n",
       "\n",
       "    .dataframe thead th {\n",
       "        text-align: right;\n",
       "    }\n",
       "</style>\n",
       "<table border=\"1\" class=\"dataframe\">\n",
       "  <thead>\n",
       "    <tr style=\"text-align: right;\">\n",
       "      <th></th>\n",
       "      <th>name</th>\n",
       "      <th>username</th>\n",
       "      <th>followers</th>\n",
       "      <th>friends</th>\n",
       "    </tr>\n",
       "  </thead>\n",
       "  <tbody>\n",
       "    <tr>\n",
       "      <th>0</th>\n",
       "      <td>University of Delhi</td>\n",
       "      <td>UnivofDelhi</td>\n",
       "      <td>6415</td>\n",
       "      <td>20</td>\n",
       "    </tr>\n",
       "    <tr>\n",
       "      <th>1</th>\n",
       "      <td>Lok Sabha Speaker</td>\n",
       "      <td>loksabhaspeaker</td>\n",
       "      <td>103608</td>\n",
       "      <td>5</td>\n",
       "    </tr>\n",
       "    <tr>\n",
       "      <th>2</th>\n",
       "      <td>Pranjal Singhal</td>\n",
       "      <td>Pranjalsinghal_</td>\n",
       "      <td>4</td>\n",
       "      <td>92</td>\n",
       "    </tr>\n",
       "    <tr>\n",
       "      <th>3</th>\n",
       "      <td>Ministry of Education</td>\n",
       "      <td>EduMinOfIndia</td>\n",
       "      <td>3034036</td>\n",
       "      <td>251</td>\n",
       "    </tr>\n",
       "    <tr>\n",
       "      <th>4</th>\n",
       "      <td>Boris Johnson</td>\n",
       "      <td>BorisJohnson</td>\n",
       "      <td>3045858</td>\n",
       "      <td>457</td>\n",
       "    </tr>\n",
       "    <tr>\n",
       "      <th>5</th>\n",
       "      <td>ADG PI - INDIAN ARMY</td>\n",
       "      <td>adgpi</td>\n",
       "      <td>6943227</td>\n",
       "      <td>105</td>\n",
       "    </tr>\n",
       "    <tr>\n",
       "      <th>6</th>\n",
       "      <td>PIB India</td>\n",
       "      <td>PIB_India</td>\n",
       "      <td>2162195</td>\n",
       "      <td>266</td>\n",
       "    </tr>\n",
       "    <tr>\n",
       "      <th>7</th>\n",
       "      <td>NASA</td>\n",
       "      <td>NASA</td>\n",
       "      <td>41031266</td>\n",
       "      <td>222</td>\n",
       "    </tr>\n",
       "    <tr>\n",
       "      <th>8</th>\n",
       "      <td>IUGS</td>\n",
       "      <td>theIUGS</td>\n",
       "      <td>2519</td>\n",
       "      <td>149</td>\n",
       "    </tr>\n",
       "    <tr>\n",
       "      <th>9</th>\n",
       "      <td>Indian Air Force</td>\n",
       "      <td>IAF_MCC</td>\n",
       "      <td>1837368</td>\n",
       "      <td>41</td>\n",
       "    </tr>\n",
       "  </tbody>\n",
       "</table>\n",
       "</div>"
      ],
      "text/plain": [
       "                    name         username  followers  friends\n",
       "0    University of Delhi      UnivofDelhi       6415       20\n",
       "1      Lok Sabha Speaker  loksabhaspeaker     103608        5\n",
       "2        Pranjal Singhal  Pranjalsinghal_          4       92\n",
       "3  Ministry of Education    EduMinOfIndia    3034036      251\n",
       "4          Boris Johnson     BorisJohnson    3045858      457\n",
       "5   ADG PI - INDIAN ARMY            adgpi    6943227      105\n",
       "6              PIB India        PIB_India    2162195      266\n",
       "7                   NASA             NASA   41031266      222\n",
       "8                   IUGS          theIUGS       2519      149\n",
       "9       Indian Air Force          IAF_MCC    1837368       41"
      ]
     },
     "execution_count": 11,
     "metadata": {},
     "output_type": "execute_result"
    }
   ],
   "source": [
    "info = Client('ajeetsparmar')\n",
    "# info.get_user_info()\n",
    "friends = info.get_friends()\n",
    "friends"
   ]
  },
  {
   "cell_type": "code",
   "execution_count": 12,
   "metadata": {},
   "outputs": [
    {
     "data": {
      "image/png": "[encoded data removed]",
      "text/plain": [
       "<Figure size 432x288 with 1 Axes>"
      ]
     },
     "metadata": {
      "needs_background": "light"
     },
     "output_type": "display_data"
    }
   ],
   "source": [
    "friends.plot('name','followers', kind = 'bar')\n",
    "plt.show()"
   ]
  },
  {
   "cell_type": "code",
   "execution_count": 13,
   "metadata": {},
   "outputs": [
    {
     "data": {
      "image/png": "[encoded data removed]",
      "text/plain": [
       "<Figure size 432x288 with 1 Axes>"
      ]
     },
     "metadata": {
      "needs_background": "light"
     },
     "output_type": "display_data"
    }
   ],
   "source": [
    "friends.plot('name','friends', kind = 'bar')\n",
    "plt.show()"
   ]
  },
  {
   "cell_type": "code",
   "execution_count": 19,
   "metadata": {},
   "outputs": [
    {
     "data": {
      "image/png": "[encoded data removed]",
      "text/plain": [
       "<Figure size 432x288 with 1 Axes>"
      ]
     },
     "execution_count": 19,
     "metadata": {},
     "output_type": "execute_result"
    }
   ],
   "source": [
    "from matplotlib.figure import Figure\n",
    "\n",
    "fig = Figure()\n",
    "axis = fig.add_subplot(1, 1, 1)\n",
    "info = Client('ajeetsparmar')\n",
    "friends = info.get_friends()\n",
    "axis.bar(friends.name, friends.friends)\n",
    "fig"
   ]
  },
  {
   "cell_type": "code",
   "execution_count": 3,
   "metadata": {},
   "outputs": [
    {
     "name": "stdout",
     "output_type": "stream",
     "text": [
      "2020-10-11 21:16:30.862880\n"
     ]
    }
   ],
   "source": [
    "from datetime import datetime\n",
    "print(datetime.now())"
   ]
  },
  {
   "cell_type": "code",
   "execution_count": null,
   "metadata": {},
   "outputs": [],
   "source": []
  }
 ],
 "metadata": {
  "kernelspec": {
   "display_name": "Python 3",
   "language": "python",
   "name": "python3"
  },
  "language_info": {
   "codemirror_mode": {
    "name": "ipython",
    "version": 3
   },
   "file_extension": ".py",
   "mimetype": "text/x-python",
   "name": "python",
   "nbconvert_exporter": "python",
   "pygments_lexer": "ipython3",
   "version": "3.8.5"
  }
 },
 "nbformat": 4,
 "nbformat_minor": 4
}
