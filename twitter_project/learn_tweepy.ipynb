{
 "cells": [
  {
   "cell_type": "code",
   "execution_count": 1,
   "metadata": {},
   "outputs": [],
   "source": [
    "import tweepy\n",
    "import json\n",
    "import webbrowser\n",
    "import pandas as pd\n"
   ]
  },
  {
   "cell_type": "code",
   "execution_count": 2,
   "metadata": {},
   "outputs": [],
   "source": [
    "with open(\"../twitter_config.json\") as p:\n",
    "    params = json.load(p)"
   ]
  },
  {
   "cell_type": "code",
   "execution_count": 3,
   "metadata": {},
   "outputs": [],
   "source": [
    "consumer_key = params[\"API_KEY\"]\n",
    "consumer_secret = params[\"APP_SECRET_KEY\"]"
   ]
  },
  {
   "cell_type": "code",
   "execution_count": 4,
   "metadata": {},
   "outputs": [],
   "source": [
    "callback_uri = 'oob'"
   ]
  },
  {
   "cell_type": "code",
   "execution_count": 5,
   "metadata": {},
   "outputs": [
    {
     "data": {
      "text/plain": [
       "'https://api.twitter.com/oauth/authorize?oauth_token=GIDt4QAAAAABION7AAABdPGji0Y'"
      ]
     },
     "execution_count": 5,
     "metadata": {},
     "output_type": "execute_result"
    }
   ],
   "source": [
    "auth = tweepy.OAuthHandler(consumer_key, consumer_secret, callback_uri)\n",
    "redirect_url = auth.get_authorization_url()\n",
    "redirect_url"
   ]
  },
  {
   "cell_type": "code",
   "execution_count": 6,
   "metadata": {},
   "outputs": [
    {
     "data": {
      "text/plain": [
       "True"
      ]
     },
     "execution_count": 6,
     "metadata": {},
     "output_type": "execute_result"
    }
   ],
   "source": [
    "webbrowser.open(redirect_url)"
   ]
  },
  {
   "cell_type": "code",
   "execution_count": 7,
   "metadata": {},
   "outputs": [
    {
     "name": "stdout",
     "output_type": "stream",
     "text": [
      "Enter the pin...9333109\n"
     ]
    }
   ],
   "source": [
    "user_pin_input = input(\"Enter the pin...\")"
   ]
  },
  {
   "cell_type": "code",
   "execution_count": 8,
   "metadata": {},
   "outputs": [
    {
     "data": {
      "text/plain": [
       "'9333109'"
      ]
     },
     "execution_count": 8,
     "metadata": {},
     "output_type": "execute_result"
    }
   ],
   "source": [
    "user_pin_input"
   ]
  },
  {
   "cell_type": "code",
   "execution_count": 9,
   "metadata": {},
   "outputs": [
    {
     "data": {
      "text/plain": [
       "('864000298305638402-piOVL1cHfa8Me5k4uZtU4mj0IhXP85D',\n",
       " 'Wupxy8vz0LmSyL6s0ISC2j4iaXyuYjAMWBNd7Vbo5SGJd')"
      ]
     },
     "execution_count": 9,
     "metadata": {},
     "output_type": "execute_result"
    }
   ],
   "source": [
    "auth.get_access_token(user_pin_input)"
   ]
  },
  {
   "cell_type": "code",
   "execution_count": 10,
   "metadata": {},
   "outputs": [],
   "source": [
    "api = tweepy.API(auth, wait_on_rate_limit=True)"
   ]
  },
  {
   "cell_type": "code",
   "execution_count": 11,
   "metadata": {},
   "outputs": [],
   "source": [
    "me = api.me()"
   ]
  },
  {
   "cell_type": "code",
   "execution_count": 12,
   "metadata": {},
   "outputs": [
    {
     "name": "stdout",
     "output_type": "stream",
     "text": [
      "ajeetsparmar\n"
     ]
    }
   ],
   "source": [
    "print(me.screen_name)"
   ]
  },
  {
   "cell_type": "code",
   "execution_count": 13,
   "metadata": {},
   "outputs": [],
   "source": [
    "# new_status = api.update_status(\"Hello World, It is my second programming status...\")"
   ]
  },
  {
   "cell_type": "code",
   "execution_count": 14,
   "metadata": {
    "scrolled": true
   },
   "outputs": [],
   "source": [
    "# new_status.destroy()"
   ]
  },
  {
   "cell_type": "code",
   "execution_count": 15,
   "metadata": {},
   "outputs": [],
   "source": [
    "# dir(new_status)"
   ]
  },
  {
   "cell_type": "code",
   "execution_count": 16,
   "metadata": {},
   "outputs": [],
   "source": [
    "# dir(api)"
   ]
  },
  {
   "cell_type": "code",
   "execution_count": 17,
   "metadata": {},
   "outputs": [],
   "source": [
    "# img_obj = api.media_upload('image/image.png')"
   ]
  },
  {
   "cell_type": "code",
   "execution_count": 18,
   "metadata": {},
   "outputs": [],
   "source": [
    "# dir(img_obj)"
   ]
  },
  {
   "cell_type": "code",
   "execution_count": 19,
   "metadata": {},
   "outputs": [],
   "source": [
    "# new_status = api.update_status(\"Hello World, It is my third #programming status...\", media_ids=[img_obj.media_id_string])"
   ]
  },
  {
   "cell_type": "code",
   "execution_count": 20,
   "metadata": {},
   "outputs": [],
   "source": [
    "# new_status.destroy()"
   ]
  },
  {
   "cell_type": "code",
   "execution_count": 21,
   "metadata": {},
   "outputs": [],
   "source": [
    "# my_timeline = api.home_timeline()\n",
    "# my_timeline"
   ]
  },
  {
   "cell_type": "code",
   "execution_count": 22,
   "metadata": {},
   "outputs": [],
   "source": [
    "# columns = set()\n",
    "# allowed_types = [str, int]\n",
    "# tweets_data = []\n",
    "\n",
    "# for status in my_timeline:\n",
    "#     print(status.author.screen_name)\n",
    "#     print(vars(status))\n",
    "#     status_dict = dict(vars(status))\n",
    "#     keys = vars(status).keys()\n",
    "#     single_tweet_data = {\"author\": status.author.screen_name}\n",
    "    \n",
    "    \n",
    "#     for k in keys:\n",
    "#         try:\n",
    "#             v_type = type(status_dict[k])\n",
    "#         except:\n",
    "#             v_type = None\n",
    "#         if v_type != None:\n",
    "#             if v_type in allowed_types:\n",
    "#                 single_tweet_data[k] = status_dict[k]\n",
    "#                 columns.add(k)\n",
    "#     tweets_data.append(single_tweet_data)\n",
    "\n",
    "    \n",
    "# header_cols = list(columns)\n",
    "# header_cols.append(\"author\")"
   ]
  },
  {
   "cell_type": "code",
   "execution_count": 23,
   "metadata": {},
   "outputs": [],
   "source": [
    "# header_cols"
   ]
  },
  {
   "cell_type": "code",
   "execution_count": 24,
   "metadata": {},
   "outputs": [],
   "source": [
    "# tweets_data"
   ]
  },
  {
   "cell_type": "code",
   "execution_count": 25,
   "metadata": {},
   "outputs": [],
   "source": [
    "# df = pd.DataFrame(tweets_data, columns=header_cols)\n",
    "# df.head()"
   ]
  },
  {
   "cell_type": "code",
   "execution_count": 26,
   "metadata": {},
   "outputs": [],
   "source": [
    "def extract_timeline_as_df(timeline_list):\n",
    "    columns = set()\n",
    "    allowed_types = [str, int]\n",
    "    tweets_data = []\n",
    "\n",
    "    for status in timeline_list:\n",
    "    #     print(status.author.screen_name)\n",
    "    #     print(vars(status))\n",
    "        status_dict = dict(vars(status))\n",
    "        keys = vars(status).keys()\n",
    "        single_tweet_data = {\"author\": status.author.screen_name}\n",
    "\n",
    "\n",
    "        for k in keys:\n",
    "            try:\n",
    "                v_type = type(status_dict[k])\n",
    "            except:\n",
    "                v_type = None\n",
    "            if v_type != None:\n",
    "                if v_type in allowed_types:\n",
    "                    single_tweet_data[k] = status_dict[k]\n",
    "                    columns.add(k)\n",
    "        tweets_data.append(single_tweet_data)\n",
    "\n",
    "\n",
    "    header_cols = list(columns)\n",
    "    header_cols.append(\"author\")\n",
    "    df = pd.DataFrame(tweets_data, columns=header_cols)\n",
    "    return df"
   ]
  },
  {
   "cell_type": "code",
   "execution_count": 27,
   "metadata": {},
   "outputs": [],
   "source": [
    "# df2 = extract_timeline_as_df(my_timeline)"
   ]
  },
  {
   "cell_type": "code",
   "execution_count": 28,
   "metadata": {},
   "outputs": [],
   "source": [
    "# df2.head()"
   ]
  },
  {
   "cell_type": "code",
   "execution_count": 29,
   "metadata": {},
   "outputs": [],
   "source": [
    "# user = api.get_user(\"narendramodi\")\n",
    "# user_timeline = user.timeline()\n",
    "# df3 = extract_timeline_as_df(user_timeline)\n",
    "# df3.head()\n",
    "# user_timeline_status_obj = user_timeline[0]\n",
    "# status_obj_id = user_timeline_status_obj.id\n",
    "# status_obj_screen_name = user_timeline_status_obj.user.screen_name\n",
    "# status_obj_url = f\"https://twitter.com/{status_obj_screen_name}/status/{status_obj_id}\"\n",
    "# print(status_obj_url)"
   ]
  },
  {
   "cell_type": "code",
   "execution_count": 30,
   "metadata": {},
   "outputs": [],
   "source": [
    "# status_obj = api.get_status(\"1312397856469213186\")\n",
    "# status_obj.text"
   ]
  },
  {
   "cell_type": "code",
   "execution_count": 31,
   "metadata": {},
   "outputs": [],
   "source": [
    "# api.unretweet(status_obj_id)"
   ]
  },
  {
   "cell_type": "code",
   "execution_count": 32,
   "metadata": {},
   "outputs": [],
   "source": [
    "# api.create_favorite(status_obj_id)\n",
    "# api.destroy_favorite(status_obj_id)"
   ]
  },
  {
   "cell_type": "code",
   "execution_count": 33,
   "metadata": {},
   "outputs": [],
   "source": [
    "# og_tweet = api.get_status(\"1304128486030954496\")\n",
    "# # print(og_tweet.user.screen_name, og_tweet.id)\n",
    "# myreply = api.update_status(f\"@{og_tweet.user.screen_name} Wow! It's cool...\", og_tweet.id)"
   ]
  },
  {
   "cell_type": "code",
   "execution_count": 34,
   "metadata": {},
   "outputs": [],
   "source": [
    "# print(myreply.id, myreply.user.screen_name)"
   ]
  },
  {
   "cell_type": "code",
   "execution_count": 35,
   "metadata": {},
   "outputs": [],
   "source": [
    "# myreply.destroy()"
   ]
  },
  {
   "cell_type": "code",
   "execution_count": 36,
   "metadata": {},
   "outputs": [],
   "source": [
    "# print(user.followers_count, user.friends_count)"
   ]
  },
  {
   "cell_type": "code",
   "execution_count": 37,
   "metadata": {},
   "outputs": [],
   "source": [
    "# my_new_friends = []\n",
    "# user_friends = user.friends()\n",
    "# for friend in user_friends:\n",
    "#     if friend.followers_count > 5000 and friend.friends_count < 50:\n",
    "#         print(friend.screen_name)\n",
    "#         my_new_friends.append(friend.screen_name)\n",
    "#         relationship_ = api.create_friendship(friend.screen_name)"
   ]
  },
  {
   "cell_type": "code",
   "execution_count": 38,
   "metadata": {},
   "outputs": [],
   "source": [
    "# to_remove = my_new_friends[:-1]"
   ]
  },
  {
   "cell_type": "code",
   "execution_count": 39,
   "metadata": {},
   "outputs": [],
   "source": [
    "# for username in to_remove:\n",
    "#     api.destroy_friendship(username)"
   ]
  },
  {
   "cell_type": "code",
   "execution_count": 40,
   "metadata": {},
   "outputs": [],
   "source": [
    "# len(api.home_timeline(40))"
   ]
  },
  {
   "cell_type": "code",
   "execution_count": 41,
   "metadata": {
    "scrolled": false
   },
   "outputs": [],
   "source": [
    "# for i , status in enumerate(tweepy.Cursor(api.home_timeline, count=50).items(500)):\n",
    "#     print(i , status.text)"
   ]
  },
  {
   "cell_type": "code",
   "execution_count": 42,
   "metadata": {},
   "outputs": [
    {
     "name": "stdout",
     "output_type": "stream",
     "text": [
      "0 New age infrastructure for India! #AtalTunnel https://t.co/qKFDRcVyL0\n",
      "1 The #AtalTunnel is a game changing infrastructure project that will help several citizens. With this project comes… https://t.co/bdr2VL7XMy\n",
      "2 देश में आज जो रिफॉर्म्स किए जा रहे हैं, उसने ऐसे लोगों को परेशान कर दिया है, जिन्होंने हमेशा अपने राजनीतिक हितों के… https://t.co/Hr6EGIzDwN\n",
      "3 हिमाचल प्रदेश के लोगों का जीवन आसान बनाने के लिए सड़क, बिजली जैसी मूल जरूरतों के साथ-साथ मोबाइल और इंटरनेट कनेक्टि… https://t.co/ERQYKTAQO3\n",
      "4 मनाली को बहुत अधिक पसंद करने वाले अटल जी की यह अटल इच्छा थी कि यहां स्थितियां बदले, यहां की कनेक्टिविटी बेहतर हो।… https://t.co/p242NgdoRf\n",
      "5 Birthday greetings to @gssjodhpur Ji, our energetic Cabinet colleague who is working assiduously to ensure India is… https://t.co/eTjJSRzXKh\n",
      "6 अटल टनल केंद्र सरकार के उस संकल्प का भी हिस्सा है कि देश के हर हिस्से में, हर व्यक्ति तक विकास का लाभ पहुंचना चाहिए… https://t.co/2nECFxXol3\n",
      "7 अटल टनल के बन जाने से लाहौल के लोगों के लिए तो नई सुबह हुई ही है, पांगी के लोगों का जीवन भी बदलने वाला है।\n",
      " \n",
      "लाहौल-… https://t.co/2zEIIPDkbN\n",
      "8 Addressing a public meeting in Solang. Watch. https://t.co/b8sTIIon80\n",
      "9 जैसे-जैसे भारत की वैश्विक भूमिका बदल रही है, हमें उसी तेजी से, उसी रफ्तार से अपने इंफ्रास्ट्रक्चर को, अपने आर्थिक औ… https://t.co/5vITmwbT7k\n",
      "10 कनेक्टिविटी का देश के विकास से सीधा संबंध होता है। ज्यादा से ज्यादा कनेक्टिविटी यानि उतना ही तेज विकास।\n",
      " \n",
      "बॉर्डर ए… https://t.co/XGiHU1Csmg\n",
      "11 अटल टनल भारत के बॉर्डर इंफ्रास्ट्रक्चर को नई ताकत देने वाली है।\n",
      " \n",
      "यह विश्वस्तरीय बॉर्डर कनेक्टिविटी का जीता-जागता… https://t.co/dZJ6uUYfzM\n",
      "12 Speaking at Sissu in Himachal Pradesh. https://t.co/GnYaWYofZn\n",
      "13 Inaugurating the spectacular #AtalTunnel. https://t.co/Npiw0qSO5A\n",
      "14 The #AtalTunnel will solve a major problem of connectivity in the region. It has several salient features and will… https://t.co/510UX6nKD8\n",
      "15 Fulfilling Atal Ji’s dream of top quality infrastructure. \n",
      "\n",
      "Will be in Himachal Pradesh tomorrow to dedicate the… https://t.co/422PVPSEeB\n",
      "16 Earlier today, attended a prayer meet at Gandhi Smriti. https://t.co/DlTpbIWcAU\n",
      "17 We are fully committed to ensure more youngsters study science. \n",
      "\n",
      "There is a major role of science in realising our… https://t.co/4qSnuiKKKc\n",
      "18 During #VaibhavSummit highlighted some of India’s efforts to encourage science and harness it for socio-economic ch… https://t.co/3eECrrVpyZ\n",
      "19 Participating in the #VaibhavSummit. https://t.co/VoNcblRulD\n"
     ]
    }
   ],
   "source": [
    "other_user = \"narendramodi\"\n",
    "for i, status in enumerate(tweepy.Cursor(api.user_timeline, screen_name=other_user).items(20)):\n",
    "    print(i, status.text)"
   ]
  },
  {
   "cell_type": "code",
   "execution_count": 43,
   "metadata": {},
   "outputs": [
    {
     "data": {
      "text/plain": [
       "['__class__',\n",
       " '__delattr__',\n",
       " '__dict__',\n",
       " '__dir__',\n",
       " '__doc__',\n",
       " '__eq__',\n",
       " '__format__',\n",
       " '__ge__',\n",
       " '__getattribute__',\n",
       " '__getstate__',\n",
       " '__gt__',\n",
       " '__hash__',\n",
       " '__init__',\n",
       " '__init_subclass__',\n",
       " '__le__',\n",
       " '__lt__',\n",
       " '__module__',\n",
       " '__ne__',\n",
       " '__new__',\n",
       " '__reduce__',\n",
       " '__reduce_ex__',\n",
       " '__repr__',\n",
       " '__setattr__',\n",
       " '__sizeof__',\n",
       " '__str__',\n",
       " '__subclasshook__',\n",
       " '__weakref__',\n",
       " '_api',\n",
       " '_json',\n",
       " 'contributors_enabled',\n",
       " 'created_at',\n",
       " 'default_profile',\n",
       " 'default_profile_image',\n",
       " 'description',\n",
       " 'entities',\n",
       " 'favourites_count',\n",
       " 'follow',\n",
       " 'follow_request_sent',\n",
       " 'followers',\n",
       " 'followers_count',\n",
       " 'followers_ids',\n",
       " 'following',\n",
       " 'friends',\n",
       " 'friends_count',\n",
       " 'geo_enabled',\n",
       " 'has_extended_profile',\n",
       " 'id',\n",
       " 'id_str',\n",
       " 'is_translation_enabled',\n",
       " 'is_translator',\n",
       " 'lang',\n",
       " 'listed_count',\n",
       " 'lists',\n",
       " 'lists_memberships',\n",
       " 'lists_subscriptions',\n",
       " 'location',\n",
       " 'name',\n",
       " 'notifications',\n",
       " 'parse',\n",
       " 'parse_list',\n",
       " 'profile_background_color',\n",
       " 'profile_background_image_url',\n",
       " 'profile_background_image_url_https',\n",
       " 'profile_background_tile',\n",
       " 'profile_banner_url',\n",
       " 'profile_image_url',\n",
       " 'profile_image_url_https',\n",
       " 'profile_link_color',\n",
       " 'profile_location',\n",
       " 'profile_sidebar_border_color',\n",
       " 'profile_sidebar_fill_color',\n",
       " 'profile_text_color',\n",
       " 'profile_use_background_image',\n",
       " 'protected',\n",
       " 'screen_name',\n",
       " 'status',\n",
       " 'statuses_count',\n",
       " 'time_zone',\n",
       " 'timeline',\n",
       " 'translator_type',\n",
       " 'unfollow',\n",
       " 'url',\n",
       " 'utc_offset',\n",
       " 'verified']"
      ]
     },
     "execution_count": 43,
     "metadata": {},
     "output_type": "execute_result"
    }
   ],
   "source": [
    "narendra_modi = api.get_user(other_user)\n",
    "# dir(narendra_modi)"
   ]
  },
  {
   "cell_type": "code",
   "execution_count": 45,
   "metadata": {},
   "outputs": [
    {
     "name": "stdout",
     "output_type": "stream",
     "text": [
      "0 2307977670\n",
      "1 903338594\n",
      "2 14300638\n",
      "3 128372940\n",
      "4 594375712\n",
      "5 852721501337989121\n",
      "6 1103263226987462657\n",
      "7 262052506\n",
      "8 2436879248\n",
      "9 1141679835023958016\n",
      "10 710127509946236928\n",
      "11 193616873\n",
      "12 375123208\n",
      "13 3098336425\n",
      "14 2876141178\n",
      "15 764857841370947584\n",
      "16 3799703833\n",
      "17 770967839427616769\n",
      "18 765006076848640000\n",
      "19 728173090027520000\n",
      "20 147242856\n",
      "21 333509659\n",
      "22 243650402\n",
      "23 81678457\n",
      "24 393917334\n",
      "25 2601333907\n",
      "26 1107805694\n",
      "27 448331888\n",
      "28 742232580641017856\n",
      "29 442130522\n"
     ]
    }
   ],
   "source": [
    "narendra_modi_friends = []\n",
    "for i, _id in enumerate(tweepy.Cursor(api.friends_ids, screen_name=other_user).items(30)):\n",
    "    print(i, _id)\n",
    "    narendra_modi_friends.append(_id)"
   ]
  },
  {
   "cell_type": "code",
   "execution_count": 47,
   "metadata": {},
   "outputs": [],
   "source": [
    "# api.get_user(narendra_modi_friends[0]).screen_name"
   ]
  },
  {
   "cell_type": "code",
   "execution_count": 52,
   "metadata": {
    "scrolled": true
   },
   "outputs": [
    {
     "name": "stdout",
     "output_type": "stream",
     "text": [
      "0 RT @ANINewsUP: #WATCH Incidents like these can be stopped with help of good values, na shashan se na talwar se. All parents should teach th… TheGreenAnd\n",
      "1 RT @rssurjewala: श्रीमती स्मृति ईरानी जी,\n",
      "\n",
      "सिर्फ़ इतना बताइये !\n",
      "\n",
      "आदित्यनाथ को चूड़ियाँ भेंट करने कब जाएँगी?\n",
      "#Hathras \n",
      "#HathrasHorrorShocksI… tauseef07563823\n",
      "2 RT @Anurag_Dwary: 14 year old minor in Balrampur, Chhattisgarh wad drugged, raped, strangled and left to die, @INCMP @INCIndia labour minis… NITISHOJHA19\n",
      "3 RT @InjaTweets: As a @MinistryWCD Minister, what steps have you u taken on #Hathras?\n",
      "@smritiirani, I want to remind you that you are a @Min… StudentYouth2\n",
      "4 बस यही तो करना चाहिए था योगी जी, इतना मुश्किल था? #Hathras https://t.co/ZazeBkysil HammuKhan3\n",
      "5 RT @SadhguruJV: Violent domination of those physically, socially or economically weaker than us is an erosion of the basic tenets of Civili… BHASKARANTS1\n",
      "6 @AzadSenaChief @chitraaum @pratimamishra04 @PragyaLive @RubikaLiyaquat @shalabhmani @Uppolice #भडवा_पत्रकारिता में… https://t.co/2oFpl0Ax5x hinduteva\n",
      "7 @ndtv \n",
      "I was thinking you are responsible \n",
      "But now I see u guys are personal news channel for nehrus&amp;Ghandys \n",
      "U r p… https://t.co/ZaV8Cjqntb Nikhil_Tiwari1\n",
      "8 RT @BDUTT: \"They have threatened to kill us. We cant stay in this village any more\"- Through tears the #Hathras victim's mother speaks for… WaniAltaf100\n",
      "9 RT @SudarshanNewsTV: उधर @MamataOfficial निंदा कर रहीं थी #Hathras में @Uppolice , @myogiadityanath की..\n",
      "\n",
      "इधर खुद उनके शासित प0 बंगाल के 24… VINAY_BIHAR_85\n",
      "10 RT @hemantrajora_: This photo of Priyanka Gandhi protecting their workers from Police's Lathi will always be remembered. \n",
      "\n",
      "ऐसे ही नेता अपने… dildar12\n",
      "11 RT @druditatyagi: मुख्यमंत्री श्री @myogiadityanath जी ने सम्पूर्ण हाथरस प्रकरण की जांच सीबीआई से कराए जाने के आदेश दिए 👏👏👏\n",
      "\n",
      "#Hathras DipakDa80723697\n",
      "12 RT @satishacharya: No Data! @sifydotcom cartoon #nodatasarkar #Hathras #YogiAdityanath https://t.co/6jR6WG20Q6 Idrishi_Boy1\n",
      "13 RT @BDUTT: \"They have threatened to kill us. We cant stay in this village any more\"- Through tears the #Hathras victim's mother speaks for… AnjanDeveshwar\n",
      "14 RT @bbcnewsmarathi: प्रियंका गांधी हाथरसमध्ये...\n",
      "या फोटोला काय कॅप्शन द्याल? 🤔\n",
      "@priyankagandhi @RahulGandhi @INCIndia \n",
      "#HathrasCase #UttarP… suhas_ghodekar\n",
      "15 RT @RajeevKSachan: पहले वह जानलेवा हमले का मामला था, फिर टीवी चैनल वालों संग नेता आए और मामला सामूहिक दुष्कर्म में तब्दील हो गया!!\n",
      "#Hathras… surajtripathi95\n",
      "16 RT @RajeevKSachan: पहले वह जानलेवा हमले का मामला था, फिर टीवी चैनल वालों संग नेता आए और मामला सामूहिक दुष्कर्म में तब्दील हो गया!!\n",
      "#Hathras… AjaybtpRj05\n",
      "17 RT @SudarshanNewsTV: उधर @MamataOfficial निंदा कर रहीं थी #Hathras में @Uppolice , @myogiadityanath की..\n",
      "\n",
      "इधर खुद उनके शासित प0 बंगाल के 24… SNSHARMA2020\n",
      "18 RT @AparBharat: No one came to Palghar\n",
      "\n",
      "But\n",
      "\n",
      "All vultures are heading to #Hathras GNiramay\n",
      "19 RT @imVkohli: What happened in #Hathras is inhumane and goes beyond cruelty. Hope the culprits of this heinous crime will be brought to jus… SinuVK18\n",
      "20 RT @jitengajaria: #Hathras will blast badly on Congress &amp; its Pidis. Specially @aroonpurie run @IndiaToday \n",
      "\n",
      "Tick tick 1.. tick tick 2 vernon_4136\n",
      "21 RT @manojchauhanmp: मानवता और सहृदयता की एक झलक !!!\n",
      "\n",
      "हमें हमारे प्रिय नेता श्री @RahulGandhi जी पर गर्व है। \n",
      "\n",
      "#Hathras #HathrasHorror \n",
      "#Sat… BhagyodayaSoni\n",
      "22 RT @MinakshiKandwal: राहुल गांधी 2008 में विदर्भ में कलावती के घर भी पहुंचे थे। खूब वादे किए थे। लेकिन, हुआ क्या? 2010 में कर्ज के बोझ से क… singh11382\n",
      "23 RT @akshaykumar: Angry &amp; Frustrated!Such brutality in #Hathras gangrape.When will this stop?Our laws &amp; their enforcement must be so strict… VishalK67596500\n",
      "24 RT @news24tvchannel: \"सभी परिवार अपनी लड़कियों को अच्छे संस्कार दे, \n",
      " तभी Rape जैसी घटनाएं रुक सकती है\"... \n",
      "\n",
      "बलिया के बैरिया से बीजेपी विधा… sanjutr36224394\n",
      "25 RT @ShefVaidya: Outrage on nuns raped by Bishop Mullackal - nil. Outrage on Hindu woman beheaded by Muzlim husband in Sonbhadra - nil. Outr… gmkrishna\n",
      "26 RT @ANINewsUP: #WATCH Incidents like these can be stopped with help of good values, na shashan se na talwar se. All parents should teach th… RIshteyaque\n",
      "27 RT @SadhguruJV: Violent domination of those physically, socially or economically weaker than us is an erosion of the basic tenets of Civili… RakeshG43592697\n",
      "28 RT @SaniaAhmad1111: Surendra Singh, BJP MLA from Ballia says rapes can stop if parents give their daughters good values. I think a better s… Pradeep232106\n",
      "29 RT @iPrashantSingh: Eyes say it ALL...\n",
      "\n",
      "#Hathras https://t.co/4z0aiHd3zf iPrashantSingh\n"
     ]
    }
   ],
   "source": [
    "query = '#hathras -#shameonuppolice -@narendramodi'\n",
    "for i, status in enumerate(tweepy.Cursor(api.search, q=query).items(30)):\n",
    "    print(i, status.text, status.author.screen_name)"
   ]
  },
  {
   "cell_type": "code",
   "execution_count": 60,
   "metadata": {},
   "outputs": [
    {
     "name": "stdout",
     "output_type": "stream",
     "text": [
      "['NaMoleague', 'narendramodi_S', 'narendramodi2O', 'narendramodi', 'Chackoz', 'NamoApp', 'PMO_NaMo', 'BJP4Truth', 'Asha71752138', 'ramniranjan187', 'IndianPatriotOM', 'narendramodi66', 'narendramodi_in', 'NamoAppOfficial', 'narendramodi2_0', 'drmonika_langeh', 'narendramodi_A', 'narendramodi_k', 'PartiesInCities', 'YashvikramTrip']\n"
     ]
    }
   ],
   "source": [
    "query_username = 'narendramodi'\n",
    "search_results = set()\n",
    "for i, user in enumerate(tweepy.Cursor(api.search_users, q=query_username).items(30)):\n",
    "#     print(i, user.screen_name)\n",
    "    search_results.add(user.screen_name)\n",
    "print(list(search_results))"
   ]
  },
  {
   "cell_type": "code",
   "execution_count": 61,
   "metadata": {},
   "outputs": [
    {
     "name": "stdout",
     "output_type": "stream",
     "text": [
      "0 page\n",
      "0 narendramodi\n",
      "1 narendramodi_in\n",
      "2 NamoApp\n",
      "3 narendramodi_k\n",
      "4 narendramodi2O\n",
      "5 narendramodi_A\n",
      "6 ramniranjan187\n",
      "7 IndianPatriotOM\n",
      "8 BJP4Truth\n",
      "9 Asha71752138\n",
      "10 narendramodi2_0\n",
      "11 narendramodi_S\n",
      "12 NamoAppOfficial\n",
      "13 Chackoz\n",
      "14 PMO_NaMo\n",
      "15 drmonika_langeh\n",
      "16 narendramodi66\n",
      "17 PartiesInCities\n",
      "18 NaMoleague\n",
      "19 YashvikramTrip\n",
      "1 page\n",
      "0 narendramodi\n",
      "1 narendramodi_in\n",
      "2 NamoApp\n",
      "3 narendramodi_k\n",
      "4 narendramodi2O\n",
      "5 narendramodi_A\n",
      "6 ramniranjan187\n",
      "7 IndianPatriotOM\n",
      "8 BJP4Truth\n",
      "9 Asha71752138\n",
      "10 narendramodi2_0\n",
      "11 narendramodi_S\n",
      "12 NamoAppOfficial\n",
      "13 Chackoz\n",
      "14 PMO_NaMo\n",
      "15 drmonika_langeh\n",
      "16 narendramodi66\n",
      "17 PartiesInCities\n",
      "18 NaMoleague\n",
      "19 YashvikramTrip\n",
      "2 page\n",
      "0 NaMoFanGaurav\n",
      "1 Dev_Jurix\n",
      "2 ManojGoelBJP\n",
      "3 thakkar_sameet\n",
      "4 mssirsa\n",
      "5 MatruBhakt\n",
      "6 CharuPragya\n",
      "7 HarbirSinghSuri\n",
      "8 bhavijay_jethva\n",
      "9 HackIndia\n",
      "10 shivaashtagi\n",
      "11 Kamallochanm\n",
      "12 LavKrTiwari\n",
      "13 iTrustNaMo_\n",
      "14 jaiprakashshah2\n",
      "15 HarishChandraSr\n",
      "16 Manesha76\n",
      "17 drnileshmodi\n",
      "18 ThackerNikhil\n",
      "19 NaIna0806\n",
      "3 page\n",
      "0 impreetsbakshi\n",
      "1 iSanjuktaP\n",
      "2 zankrut\n",
      "3 SKKaushikCanada\n",
      "4 Skraivns\n",
      "5 DelhiTweeter\n",
      "6 PiyushPatelBJP\n",
      "7 Seems3r\n",
      "8 snikhil_social\n",
      "9 OdiaAbinash\n",
      "10 pujatiwariBJP\n",
      "11 AmolSiddham\n",
      "12 sunil_choudhry\n",
      "13 TheAshokSingh\n",
      "14 KuldeepOffice\n",
      "15 piyushfofandi\n",
      "16 TheRSS_Piyussh\n",
      "17 BJP_RSS\n",
      "18 PranavJoshi_\n",
      "19 rajeshbhatiabjp\n"
     ]
    }
   ],
   "source": [
    "query_username = 'narendramodi'\n",
    "def process_page(page_results):\n",
    "    for i, user in enumerate(page_results):\n",
    "        print(i, user.screen_name)\n",
    "\n",
    "for i, page in enumerate(tweepy.Cursor(api.search_users, q=query_username, per_page=5).pages(3)):\n",
    "    print(i, \"page\")\n",
    "    process_page(page)"
   ]
  },
  {
   "cell_type": "code",
   "execution_count": null,
   "metadata": {},
   "outputs": [],
   "source": []
  }
 ],
 "metadata": {
  "kernelspec": {
   "display_name": "Python 3",
   "language": "python",
   "name": "python3"
  },
  "language_info": {
   "codemirror_mode": {
    "name": "ipython",
    "version": 3
   },
   "file_extension": ".py",
   "mimetype": "text/x-python",
   "name": "python",
   "nbconvert_exporter": "python",
   "pygments_lexer": "ipython3",
   "version": "3.8.2"
  }
 },
 "nbformat": 4,
 "nbformat_minor": 4
}