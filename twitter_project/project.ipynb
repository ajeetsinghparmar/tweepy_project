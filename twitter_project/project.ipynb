{
 "cells": [
  {
   "cell_type": "code",
   "execution_count": 62,
   "metadata": {},
   "outputs": [],
   "source": [
    "import tweepy\n",
    "import webbrowser\n",
    "import json\n",
    "import pandas as pd\n",
    "import matplotlib.pyplot as plt\n",
    "from collections import defaultdict"
   ]
  },
  {
   "cell_type": "code",
   "execution_count": 13,
   "metadata": {},
   "outputs": [],
   "source": [
    "with open('../twitter_config.json') as conf:\n",
    "    params = json.load(conf)\n",
    "    \n",
    "consumer_key = params['API_KEY']\n",
    "consumer_secret = params['APP_SECRET_KEY']\n",
    "callback_uri = 'oob'"
   ]
  },
  {
   "cell_type": "code",
   "execution_count": 15,
   "metadata": {},
   "outputs": [
    {
     "name": "stdout",
     "output_type": "stream",
     "text": [
      "Enter the pin from the page...5207197\n"
     ]
    }
   ],
   "source": [
    "auth = tweepy.OAuthHandler(consumer_key, consumer_secret, callback_uri)\n",
    "redirect_url = auth.get_authorization_url()\n",
    "webbrowser.open(redirect_url)\n",
    "user_pin_input = input('Click on authorize app button and enter the pin from there...')"
   ]
  },
  {
   "cell_type": "code",
   "execution_count": 16,
   "metadata": {},
   "outputs": [
    {
     "data": {
      "text/plain": [
       "'ajeetsparmar'"
      ]
     },
     "execution_count": 16,
     "metadata": {},
     "output_type": "execute_result"
    }
   ],
   "source": [
    "auth.get_access_token(user_pin_input)\n",
    "api = tweepy.API(auth, wait_on_rate_limit_notify = True)\n",
    "me = api.me()\n",
    "me.screen_name"
   ]
  },
  {
   "cell_type": "code",
   "execution_count": 60,
   "metadata": {},
   "outputs": [],
   "source": [
    "def get_user_info(username: str):\n",
    "    user = api.get_user(username)\n",
    "    first_name, *_ = user.name.split(\" \")\n",
    "    info = {\n",
    "        'Name': user.name,\n",
    "        'Description': user.description,\n",
    "        'Created_at': user.created_at.strftime(\"%d %b, %Y, %H:%M:%S\"),\n",
    "        'Total Likes by '+first_name: user.favourites_count,\n",
    "        'Followers': user.followers_count,\n",
    "        'Friends': user.friends_count,\n",
    "        'Id': user.id,\n",
    "        'Id_str': user.id_str,\n",
    "        'Location': user.location,\n",
    "        'Total statuses': user.statuses_count\n",
    "    }\n",
    "    return info"
   ]
  },
  {
   "cell_type": "code",
   "execution_count": 69,
   "metadata": {},
   "outputs": [],
   "source": [
    "def get_followers_info(username: str):\n",
    "    user = api.get_user(username)\n",
    "    first_name, *_ = user.name.split(\" \")\n",
    "    info = []\n",
    "    \n",
    "    for follower in tweepy.Cursor(api.followers, screen_name = username).items(10):\n",
    "        username = follower.screen_name\n",
    "        name = follower.name\n",
    "        followers = follower.followers_count\n",
    "        friends = follower.friends_count\n",
    "        info.append([name, username, followers, friends])\n",
    "        \n",
    "        \n",
    "        \n",
    "    info_df = pd.DataFrame(info, columns = ['name', 'username', 'followers', 'friends'])\n",
    "    return info_df"
   ]
  },
  {
   "cell_type": "code",
   "execution_count": 70,
   "metadata": {},
   "outputs": [
    {
     "data": {
      "text/html": [
       "<div>\n",
       "<style scoped>\n",
       "    .dataframe tbody tr th:only-of-type {\n",
       "        vertical-align: middle;\n",
       "    }\n",
       "\n",
       "    .dataframe tbody tr th {\n",
       "        vertical-align: top;\n",
       "    }\n",
       "\n",
       "    .dataframe thead th {\n",
       "        text-align: right;\n",
       "    }\n",
       "</style>\n",
       "<table border=\"1\" class=\"dataframe\">\n",
       "  <thead>\n",
       "    <tr style=\"text-align: right;\">\n",
       "      <th></th>\n",
       "      <th>name</th>\n",
       "      <th>username</th>\n",
       "      <th>followers</th>\n",
       "      <th>friends</th>\n",
       "    </tr>\n",
       "  </thead>\n",
       "  <tbody>\n",
       "    <tr>\n",
       "      <th>0</th>\n",
       "      <td>SwapnaIyer</td>\n",
       "      <td>swapna90367785</td>\n",
       "      <td>4</td>\n",
       "      <td>46</td>\n",
       "    </tr>\n",
       "    <tr>\n",
       "      <th>1</th>\n",
       "      <td>烟雨-染青衣</td>\n",
       "      <td>A96ZixFw6AhjCDp</td>\n",
       "      <td>2</td>\n",
       "      <td>40</td>\n",
       "    </tr>\n",
       "    <tr>\n",
       "      <th>2</th>\n",
       "      <td>Nitish Yadav</td>\n",
       "      <td>NitishY78465621</td>\n",
       "      <td>0</td>\n",
       "      <td>52</td>\n",
       "    </tr>\n",
       "    <tr>\n",
       "      <th>3</th>\n",
       "      <td>Kamalkumar</td>\n",
       "      <td>Kamalku76387077</td>\n",
       "      <td>1</td>\n",
       "      <td>6</td>\n",
       "    </tr>\n",
       "    <tr>\n",
       "      <th>4</th>\n",
       "      <td>Bipin Babu</td>\n",
       "      <td>BipinBa78638052</td>\n",
       "      <td>0</td>\n",
       "      <td>13</td>\n",
       "    </tr>\n",
       "    <tr>\n",
       "      <th>5</th>\n",
       "      <td>Rab Bhajan</td>\n",
       "      <td>BhajanRab</td>\n",
       "      <td>0</td>\n",
       "      <td>33</td>\n",
       "    </tr>\n",
       "    <tr>\n",
       "      <th>6</th>\n",
       "      <td>Sourav Edapal</td>\n",
       "      <td>EdapalSourav</td>\n",
       "      <td>0</td>\n",
       "      <td>7</td>\n",
       "    </tr>\n",
       "    <tr>\n",
       "      <th>7</th>\n",
       "      <td>Bhagwati bargot</td>\n",
       "      <td>BargotBhagwati</td>\n",
       "      <td>0</td>\n",
       "      <td>3</td>\n",
       "    </tr>\n",
       "    <tr>\n",
       "      <th>8</th>\n",
       "      <td>Sonu Kumar</td>\n",
       "      <td>SonuKum06159995</td>\n",
       "      <td>0</td>\n",
       "      <td>4</td>\n",
       "    </tr>\n",
       "    <tr>\n",
       "      <th>9</th>\n",
       "      <td>Lgen Sanjay Chauhan</td>\n",
       "      <td>LgenSanjay</td>\n",
       "      <td>0</td>\n",
       "      <td>28</td>\n",
       "    </tr>\n",
       "  </tbody>\n",
       "</table>\n",
       "</div>"
      ],
      "text/plain": [
       "                  name         username  followers  friends\n",
       "0           SwapnaIyer   swapna90367785          4       46\n",
       "1               烟雨-染青衣  A96ZixFw6AhjCDp          2       40\n",
       "2         Nitish Yadav  NitishY78465621          0       52\n",
       "3           Kamalkumar  Kamalku76387077          1        6\n",
       "4           Bipin Babu  BipinBa78638052          0       13\n",
       "5           Rab Bhajan        BhajanRab          0       33\n",
       "6        Sourav Edapal     EdapalSourav          0        7\n",
       "7      Bhagwati bargot   BargotBhagwati          0        3\n",
       "8           Sonu Kumar  SonuKum06159995          0        4\n",
       "9  Lgen Sanjay Chauhan       LgenSanjay          0       28"
      ]
     },
     "execution_count": 70,
     "metadata": {},
     "output_type": "execute_result"
    }
   ],
   "source": [
    "get_followers_info(\"narendramodi\")"
   ]
  },
  {
   "cell_type": "code",
   "execution_count": null,
   "metadata": {},
   "outputs": [],
   "source": [
    "    def get_timeline_tweets(username, num_tweets):\n",
    "        tweets = []\n",
    "        for tweet in tweepy.Cursor(api.home_timeline, screen_name=username).items(num_tweets):\n",
    "            text = tweet.text\n",
    "            tweets.append(tweet.text)\n",
    "        return(tweets)"
   ]
  },
  {
   "cell_type": "code",
   "execution_count": null,
   "metadata": {},
   "outputs": [],
   "source": []
  }
 ],
 "metadata": {
  "kernelspec": {
   "display_name": "Python 3",
   "language": "python",
   "name": "python3"
  },
  "language_info": {
   "codemirror_mode": {
    "name": "ipython",
    "version": 3
   },
   "file_extension": ".py",
   "mimetype": "text/x-python",
   "name": "python",
   "nbconvert_exporter": "python",
   "pygments_lexer": "ipython3",
   "version": "3.8.5"
  }
 },
 "nbformat": 4,
 "nbformat_minor": 4
}